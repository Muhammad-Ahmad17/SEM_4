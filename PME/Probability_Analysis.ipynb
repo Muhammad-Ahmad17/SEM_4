{
 "cells": [
  {
   "cell_type": "markdown",
   "id": "749d0c4d",
   "metadata": {},
   "source": [
    "# Probability Concepts in Real-World Applications\n",
    "This notebook explores probability concepts applied to large datasets."
   ]
  },
  {
   "cell_type": "markdown",
   "id": "d406ff17",
   "metadata": {},
   "source": [
    "## 1. Set Theory: Feature Selection\n",
    "Using set operations to analyze overlapping features in datasets."
   ]
  },
  {
   "cell_type": "code",
   "execution_count": null,
   "id": "40ae39c6",
   "metadata": {},
   "outputs": [],
   "source": [
    "\n",
    "import pandas as pd\n",
    "\n",
    "# Load Titanic dataset\n",
    "df = pd.read_csv(\"https://raw.githubusercontent.com/datasciencedojo/datasets/master/titanic.csv\")\n",
    "\n",
    "# Define two feature sets\n",
    "features_A = set([\"Pclass\", \"Sex\", \"Age\", \"Fare\"])\n",
    "features_B = set([\"Sex\", \"Age\", \"Embarked\", \"Fare\"])\n",
    "\n",
    "# Set operations\n",
    "print(\"Union:\", features_A | features_B)\n",
    "print(\"Intersection:\", features_A & features_B)\n"
   ]
  },
  {
   "cell_type": "markdown",
   "id": "4507aeb6",
   "metadata": {},
   "source": [
    "## 2. Conditional Probability: Spam Detection\n",
    "Using Naïve Bayes' Theorem to determine email spam likelihood."
   ]
  },
  {
   "cell_type": "code",
   "execution_count": null,
   "id": "227cee7d",
   "metadata": {},
   "outputs": [],
   "source": [
    "\n",
    "from sklearn.feature_extraction.text import CountVectorizer\n",
    "from sklearn.naive_bayes import MultinomialNB\n",
    "from sklearn.model_selection import train_test_split\n",
    "from sklearn import datasets\n",
    "\n",
    "# Load spam dataset (SMS spam collection)\n",
    "df = pd.read_csv(\"https://raw.githubusercontent.com/justmarkham/pycon-2016-tutorial/master/data/sms-spam-collection.tsv\", sep='\t', names=['label', 'message'])\n",
    "\n",
    "# Convert labels to binary\n",
    "df['label'] = df['label'].map({'ham': 0, 'spam': 1})\n",
    "\n",
    "# Vectorize text data\n",
    "vectorizer = CountVectorizer()\n",
    "X = vectorizer.fit_transform(df['message'])\n",
    "y = df['label']\n",
    "\n",
    "# Train/Test Split\n",
    "X_train, X_test, y_train, y_test = train_test_split(X, y, test_size=0.2, random_state=42)\n",
    "\n",
    "# Train Naïve Bayes Model\n",
    "model = MultinomialNB()\n",
    "model.fit(X_train, y_train)\n",
    "\n",
    "# Predict probabilities\n",
    "probs = model.predict_proba(X_test)[:10]\n",
    "print(\"Predicted spam probabilities:\n",
    "\", probs)\n"
   ]
  },
  {
   "cell_type": "markdown",
   "id": "9c2dc6c2",
   "metadata": {},
   "source": [
    "## 3. Probability Mass Function & CDF: Customer Purchases\n",
    "Analyzing purchase probability distribution."
   ]
  },
  {
   "cell_type": "code",
   "execution_count": null,
   "id": "b855782b",
   "metadata": {},
   "outputs": [],
   "source": [
    "\n",
    "import numpy as np\n",
    "import matplotlib.pyplot as plt\n",
    "\n",
    "# Simulated dataset: Number of purchases per customer\n",
    "purchases = np.random.poisson(3, 1000)  # Avg purchases per customer\n",
    "\n",
    "# Compute PMF\n",
    "values, counts = np.unique(purchases, return_counts=True)\n",
    "pmf = counts / counts.sum()\n",
    "\n",
    "# Compute CDF\n",
    "cdf = np.cumsum(pmf)\n",
    "\n",
    "# Plot PMF & CDF\n",
    "plt.figure(figsize=(12,5))\n",
    "plt.subplot(1,2,1)\n",
    "plt.bar(values, pmf, alpha=0.6, color='b', label=\"PMF\")\n",
    "plt.xlabel(\"Purchases\"); plt.ylabel(\"Probability\"); plt.title(\"PMF\")\n",
    "\n",
    "plt.subplot(1,2,2)\n",
    "plt.plot(values, cdf, marker=\"o\", linestyle=\"--\", color=\"r\", label=\"CDF\")\n",
    "plt.xlabel(\"Purchases\"); plt.ylabel(\"Cumulative Probability\"); plt.title(\"CDF\")\n",
    "\n",
    "plt.show()\n"
   ]
  },
  {
   "cell_type": "markdown",
   "id": "de3d7e95",
   "metadata": {},
   "source": [
    "## 4. Expected Value: Stock Price Forecasting\n",
    "Using probability to estimate future stock prices."
   ]
  },
  {
   "cell_type": "code",
   "execution_count": null,
   "id": "5561493b",
   "metadata": {},
   "outputs": [],
   "source": [
    "\n",
    "# Simulated stock price changes\n",
    "price_changes = [-5, 10, -2, 8, 12, -7, 3]\n",
    "probabilities = [0.1, 0.2, 0.15, 0.25, 0.1, 0.1, 0.1]\n",
    "\n",
    "# Compute expected price change\n",
    "expected_change = sum(p * c for p, c in zip(probabilities, price_changes))\n",
    "print(\"Expected Stock Price Change:\", expected_change)\n"
   ]
  },
  {
   "cell_type": "markdown",
   "id": "f16c518e",
   "metadata": {},
   "source": [
    "## 5. Variance & Standard Deviation: Risk Assessment\n",
    "Measuring financial risk using variance."
   ]
  },
  {
   "cell_type": "code",
   "execution_count": null,
   "id": "357f67db",
   "metadata": {},
   "outputs": [],
   "source": [
    "\n",
    "returns = np.random.normal(0.05, 0.2, 1000)  # Simulated stock returns\n",
    "variance = np.var(returns)\n",
    "std_dev = np.std(returns)\n",
    "print(f\"Variance: {variance:.4f}, Standard Deviation: {std_dev:.4f}\")\n"
   ]
  },
  {
   "cell_type": "markdown",
   "id": "77047775",
   "metadata": {},
   "source": [
    "## 6. Bayesian Inference: Disease Diagnosis\n",
    "Using Bayes' Theorem to estimate disease probability."
   ]
  },
  {
   "cell_type": "code",
   "execution_count": null,
   "id": "93d571a7",
   "metadata": {},
   "outputs": [],
   "source": [
    "\n",
    "# Given probabilities\n",
    "P_disease = 0.01  # Prior probability of having disease\n",
    "P_positive_given_disease = 0.95  # True positive rate\n",
    "P_positive_given_no_disease = 0.05  # False positive rate\n",
    "\n",
    "# Compute P(Disease | Positive Test)\n",
    "P_positive = (P_positive_given_disease * P_disease) + (P_positive_given_no_disease * (1 - P_disease))\n",
    "P_disease_given_positive = (P_positive_given_disease * P_disease) / P_positive\n",
    "\n",
    "print(f\"Probability of having disease given a positive test: {P_disease_given_positive:.4f}\")\n"
   ]
  }
 ],
 "metadata": {},
 "nbformat": 4,
 "nbformat_minor": 5
}
